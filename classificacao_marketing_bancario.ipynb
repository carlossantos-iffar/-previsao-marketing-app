{
  "cells": [
    {
      "cell_type": "markdown",
      "id": "60e139da",
      "metadata": {
        "id": "60e139da"
      },
      "source": [
        "### Classificação de Dados usando Modelos de Aprendizado de Máquina e Rede Neural Artificial\n",
        "### Professor Carlos Santos - Instituto Federal Farroupilha Câmpus Alegrete"
      ]
    },
    {
      "cell_type": "markdown",
      "source": [
        "### ETAPA 1 - Entendimento do Negócio"
      ],
      "metadata": {
        "id": "8Z-AlpraLQXe"
      },
      "id": "8Z-AlpraLQXe"
    },
    {
      "cell_type": "code",
      "source": [
        "'''\n",
        "Previsão de Resposta a Campanhas de Marketing\n",
        "\n",
        "Este notebook utiliza diferentes algoritmos de classificação para prever se um cliente aceitará ou não uma oferta de depósito a prazo de um banco,\n",
        "com base no conjunto de dados **Bank Marketing Dataset**.\n",
        "\n",
        "Objetivo:\n",
        " - Classificar clientes como `sim` ou `não` para a aceitação da campanha.\n",
        "\n",
        "Algoritmos Utilizados:\n",
        " - Naive Bayes\n",
        " - Árvore de Decisão\n",
        " - Random Forest\n",
        " - Gradient Boosting\n",
        " - K-Nearest Neighbors (KNN)\n",
        " - Support Vector Machines (SVM)\n",
        " - Rede Neural Artificial\n",
        "\n",
        "Metodologia utilizada:\n",
        " - CRISP-DM (Cross-Industry Standard Process for Data Mining)\n",
        " '''"
      ],
      "metadata": {
        "id": "VtIL5Co1Sx0x",
        "colab": {
          "base_uri": "https://localhost:8080/",
          "height": 105
        },
        "outputId": "c0eaf9a1-ee3a-4494-cea8-9b4b51a3bf58",
        "collapsed": true
      },
      "id": "VtIL5Co1Sx0x",
      "execution_count": 93,
      "outputs": [
        {
          "output_type": "execute_result",
          "data": {
            "text/plain": [
              "'\\nPrevisão de Resposta a Campanhas de Marketing\\n\\nEste notebook utiliza diferentes algoritmos de classificação para prever se um cliente aceitará ou não uma oferta de depósito a prazo de um banco,\\ncom base no conjunto de dados **Bank Marketing Dataset**.\\n\\nObjetivo:\\n - Classificar clientes como `sim` ou `não` para a aceitação da campanha.\\n\\nAlgoritmos Utilizados:\\n - Naive Bayes\\n - Árvore de Decisão\\n - Random Forest\\n - Gradient Boosting\\n - K-Nearest Neighbors (KNN)\\n - Support Vector Machines (SVM)\\n - Rede Neural Artificial\\n\\nMetodologia utilizada:\\n - CRISP-DM (Cross-Industry Standard Process for Data Mining)\\n '"
            ],
            "application/vnd.google.colaboratory.intrinsic+json": {
              "type": "string"
            }
          },
          "metadata": {},
          "execution_count": 93
        }
      ]
    },
    {
      "cell_type": "markdown",
      "source": [
        "### ETAPA 2 - Entendimento dos Dados"
      ],
      "metadata": {
        "id": "JRZWl8HDK-Tu"
      },
      "id": "JRZWl8HDK-Tu"
    },
    {
      "cell_type": "code",
      "source": [
        "'''\n",
        "Informações sobre o conjunto de dados Bank Marketing Dataset\n",
        "\n",
        "- Tamanho: Contém cerca de 41.000 registros com 21 colunas. Pode ser facilmente carregado na memória e manipulado com ferramentas padrão como pandas.\n",
        "- Colunas: descrevem atributos como idade, saldo, duração da campanha, entre outros, relacionados à resposta do cliente à campanha de marketing (compra ou não do produto).\n",
        "- Formato: formato CSV, pronto para ser usado diretamente com pandas.\n",
        "- Relacionamento Claro com Negócios: O objetivo é prever se um cliente irá aceitar uma oferta de depósito a prazo, o que é muito próximo do cenário de previsão de compras.\n",
        "Um depósito a prazo é uma modalidade de depósito em que o cliente de uma instituição financeira recebe juros em troca de manter recursos monetários depositados por um\n",
        "prazo pré-determinado.\n",
        "'''"
      ],
      "metadata": {
        "id": "jZJA7_5lTH8A",
        "colab": {
          "base_uri": "https://localhost:8080/",
          "height": 122
        },
        "outputId": "d69f0905-dfed-4151-fa82-5cb39c9fd0c6",
        "collapsed": true
      },
      "id": "jZJA7_5lTH8A",
      "execution_count": 94,
      "outputs": [
        {
          "output_type": "execute_result",
          "data": {
            "text/plain": [
              "'\\nInformações sobre o conjunto de dados Bank Marketing Dataset\\n\\n- Tamanho: Contém cerca de 41.000 registros com 21 colunas. Pode ser facilmente carregado na memória e manipulado com ferramentas padrão como pandas.\\n- Colunas: descrevem atributos como idade, saldo, duração da campanha, entre outros, relacionados à resposta do cliente à campanha de marketing (compra ou não do produto).\\n- Formato: formato CSV, pronto para ser usado diretamente com pandas.\\n- Relacionamento Claro com Negócios: O objetivo é prever se um cliente irá aceitar uma oferta de depósito a prazo, o que é muito próximo do cenário de previsão de compras.\\nUm depósito a prazo é uma modalidade de depósito em que o cliente de uma instituição financeira recebe juros em troca de manter recursos monetários depositados por um\\nprazo pré-determinado.\\n'"
            ],
            "application/vnd.google.colaboratory.intrinsic+json": {
              "type": "string"
            }
          },
          "metadata": {},
          "execution_count": 94
        }
      ]
    },
    {
      "cell_type": "code",
      "source": [],
      "metadata": {
        "id": "kVBIbR-6TXJ_"
      },
      "id": "kVBIbR-6TXJ_",
      "execution_count": 94,
      "outputs": []
    },
    {
      "cell_type": "code",
      "execution_count": 95,
      "id": "7ab74e08",
      "metadata": {
        "id": "7ab74e08"
      },
      "outputs": [],
      "source": [
        "# Importação de Bibliotecas\n",
        "\n",
        "import pandas as pd  # Manipulação de dados\n",
        "import numpy as np  # Operações matemáticas e manipulação de arrays\n",
        "from sklearn.model_selection import train_test_split  # Divisão de conjuntos de dados\n",
        "from sklearn.preprocessing import StandardScaler, LabelEncoder  # Normalização e codificação\n",
        "from sklearn.tree import DecisionTreeClassifier  # Modelo de Árvore de Decisão\n",
        "from sklearn.neighbors import KNeighborsClassifier  # Modelo KNN\n",
        "from sklearn.ensemble import RandomForestClassifier  # Modelo Random Forest\n",
        "from sklearn.metrics import classification_report, accuracy_score, confusion_matrix  # Métricas de avaliação\n",
        "import matplotlib.pyplot as plt  # Visualização de dados\n",
        "import seaborn as sns  # Gráficos estilizados\n",
        "from tensorflow.keras.models import Sequential  # Criação de redes neurais sequenciais\n",
        "from tensorflow.keras.layers import Dense, Input  # Camadas densas e de entrada para redes neurais\n",
        "from sklearn.naive_bayes import GaussianNB  # Naive Bayes\n",
        "from sklearn.svm import SVC  # Support Vector Machines\n",
        "from sklearn.ensemble import GradientBoostingClassifier  # Gradient Boosting"
      ]
    },
    {
      "cell_type": "markdown",
      "source": [
        "### ETAPA 3 - Preparação dos Dados"
      ],
      "metadata": {
        "id": "iggE2LvTMHgu"
      },
      "id": "iggE2LvTMHgu"
    },
    {
      "cell_type": "code",
      "execution_count": 96,
      "id": "8a54b74b",
      "metadata": {
        "colab": {
          "base_uri": "https://localhost:8080/",
          "height": 735
        },
        "id": "8a54b74b",
        "outputId": "04f41b92-32d9-4bd6-d543-f728e76d967c"
      },
      "outputs": [
        {
          "output_type": "stream",
          "name": "stdout",
          "text": [
            "Por favor, carregue o arquivo CSV do conjunto de dados.\n"
          ]
        },
        {
          "output_type": "display_data",
          "data": {
            "text/plain": [
              "<IPython.core.display.HTML object>"
            ],
            "text/html": [
              "\n",
              "     <input type=\"file\" id=\"files-8ed68d96-c9d5-41a5-a74a-3abc994d246e\" name=\"files[]\" multiple disabled\n",
              "        style=\"border:none\" />\n",
              "     <output id=\"result-8ed68d96-c9d5-41a5-a74a-3abc994d246e\">\n",
              "      Upload widget is only available when the cell has been executed in the\n",
              "      current browser session. Please rerun this cell to enable.\n",
              "      </output>\n",
              "      <script>// Copyright 2017 Google LLC\n",
              "//\n",
              "// Licensed under the Apache License, Version 2.0 (the \"License\");\n",
              "// you may not use this file except in compliance with the License.\n",
              "// You may obtain a copy of the License at\n",
              "//\n",
              "//      http://www.apache.org/licenses/LICENSE-2.0\n",
              "//\n",
              "// Unless required by applicable law or agreed to in writing, software\n",
              "// distributed under the License is distributed on an \"AS IS\" BASIS,\n",
              "// WITHOUT WARRANTIES OR CONDITIONS OF ANY KIND, either express or implied.\n",
              "// See the License for the specific language governing permissions and\n",
              "// limitations under the License.\n",
              "\n",
              "/**\n",
              " * @fileoverview Helpers for google.colab Python module.\n",
              " */\n",
              "(function(scope) {\n",
              "function span(text, styleAttributes = {}) {\n",
              "  const element = document.createElement('span');\n",
              "  element.textContent = text;\n",
              "  for (const key of Object.keys(styleAttributes)) {\n",
              "    element.style[key] = styleAttributes[key];\n",
              "  }\n",
              "  return element;\n",
              "}\n",
              "\n",
              "// Max number of bytes which will be uploaded at a time.\n",
              "const MAX_PAYLOAD_SIZE = 100 * 1024;\n",
              "\n",
              "function _uploadFiles(inputId, outputId) {\n",
              "  const steps = uploadFilesStep(inputId, outputId);\n",
              "  const outputElement = document.getElementById(outputId);\n",
              "  // Cache steps on the outputElement to make it available for the next call\n",
              "  // to uploadFilesContinue from Python.\n",
              "  outputElement.steps = steps;\n",
              "\n",
              "  return _uploadFilesContinue(outputId);\n",
              "}\n",
              "\n",
              "// This is roughly an async generator (not supported in the browser yet),\n",
              "// where there are multiple asynchronous steps and the Python side is going\n",
              "// to poll for completion of each step.\n",
              "// This uses a Promise to block the python side on completion of each step,\n",
              "// then passes the result of the previous step as the input to the next step.\n",
              "function _uploadFilesContinue(outputId) {\n",
              "  const outputElement = document.getElementById(outputId);\n",
              "  const steps = outputElement.steps;\n",
              "\n",
              "  const next = steps.next(outputElement.lastPromiseValue);\n",
              "  return Promise.resolve(next.value.promise).then((value) => {\n",
              "    // Cache the last promise value to make it available to the next\n",
              "    // step of the generator.\n",
              "    outputElement.lastPromiseValue = value;\n",
              "    return next.value.response;\n",
              "  });\n",
              "}\n",
              "\n",
              "/**\n",
              " * Generator function which is called between each async step of the upload\n",
              " * process.\n",
              " * @param {string} inputId Element ID of the input file picker element.\n",
              " * @param {string} outputId Element ID of the output display.\n",
              " * @return {!Iterable<!Object>} Iterable of next steps.\n",
              " */\n",
              "function* uploadFilesStep(inputId, outputId) {\n",
              "  const inputElement = document.getElementById(inputId);\n",
              "  inputElement.disabled = false;\n",
              "\n",
              "  const outputElement = document.getElementById(outputId);\n",
              "  outputElement.innerHTML = '';\n",
              "\n",
              "  const pickedPromise = new Promise((resolve) => {\n",
              "    inputElement.addEventListener('change', (e) => {\n",
              "      resolve(e.target.files);\n",
              "    });\n",
              "  });\n",
              "\n",
              "  const cancel = document.createElement('button');\n",
              "  inputElement.parentElement.appendChild(cancel);\n",
              "  cancel.textContent = 'Cancel upload';\n",
              "  const cancelPromise = new Promise((resolve) => {\n",
              "    cancel.onclick = () => {\n",
              "      resolve(null);\n",
              "    };\n",
              "  });\n",
              "\n",
              "  // Wait for the user to pick the files.\n",
              "  const files = yield {\n",
              "    promise: Promise.race([pickedPromise, cancelPromise]),\n",
              "    response: {\n",
              "      action: 'starting',\n",
              "    }\n",
              "  };\n",
              "\n",
              "  cancel.remove();\n",
              "\n",
              "  // Disable the input element since further picks are not allowed.\n",
              "  inputElement.disabled = true;\n",
              "\n",
              "  if (!files) {\n",
              "    return {\n",
              "      response: {\n",
              "        action: 'complete',\n",
              "      }\n",
              "    };\n",
              "  }\n",
              "\n",
              "  for (const file of files) {\n",
              "    const li = document.createElement('li');\n",
              "    li.append(span(file.name, {fontWeight: 'bold'}));\n",
              "    li.append(span(\n",
              "        `(${file.type || 'n/a'}) - ${file.size} bytes, ` +\n",
              "        `last modified: ${\n",
              "            file.lastModifiedDate ? file.lastModifiedDate.toLocaleDateString() :\n",
              "                                    'n/a'} - `));\n",
              "    const percent = span('0% done');\n",
              "    li.appendChild(percent);\n",
              "\n",
              "    outputElement.appendChild(li);\n",
              "\n",
              "    const fileDataPromise = new Promise((resolve) => {\n",
              "      const reader = new FileReader();\n",
              "      reader.onload = (e) => {\n",
              "        resolve(e.target.result);\n",
              "      };\n",
              "      reader.readAsArrayBuffer(file);\n",
              "    });\n",
              "    // Wait for the data to be ready.\n",
              "    let fileData = yield {\n",
              "      promise: fileDataPromise,\n",
              "      response: {\n",
              "        action: 'continue',\n",
              "      }\n",
              "    };\n",
              "\n",
              "    // Use a chunked sending to avoid message size limits. See b/62115660.\n",
              "    let position = 0;\n",
              "    do {\n",
              "      const length = Math.min(fileData.byteLength - position, MAX_PAYLOAD_SIZE);\n",
              "      const chunk = new Uint8Array(fileData, position, length);\n",
              "      position += length;\n",
              "\n",
              "      const base64 = btoa(String.fromCharCode.apply(null, chunk));\n",
              "      yield {\n",
              "        response: {\n",
              "          action: 'append',\n",
              "          file: file.name,\n",
              "          data: base64,\n",
              "        },\n",
              "      };\n",
              "\n",
              "      let percentDone = fileData.byteLength === 0 ?\n",
              "          100 :\n",
              "          Math.round((position / fileData.byteLength) * 100);\n",
              "      percent.textContent = `${percentDone}% done`;\n",
              "\n",
              "    } while (position < fileData.byteLength);\n",
              "  }\n",
              "\n",
              "  // All done.\n",
              "  yield {\n",
              "    response: {\n",
              "      action: 'complete',\n",
              "    }\n",
              "  };\n",
              "}\n",
              "\n",
              "scope.google = scope.google || {};\n",
              "scope.google.colab = scope.google.colab || {};\n",
              "scope.google.colab._files = {\n",
              "  _uploadFiles,\n",
              "  _uploadFilesContinue,\n",
              "};\n",
              "})(self);\n",
              "</script> "
            ]
          },
          "metadata": {}
        },
        {
          "output_type": "stream",
          "name": "stdout",
          "text": [
            "Saving bank-additional-full-ptbr.csv to bank-additional-full-ptbr (1).csv\n",
            "Visualizando as primeiras linhas do conjunto de dados:\n",
            "   idade            profissao estado_civil          escolaridade  inadimplente\n",
            "0     56  empregada doméstica       casado  fundamental (4 anos)           não\n",
            "1     57             serviços       casado          ensino médio  desconhecido\n",
            "2     37             serviços       casado          ensino médio           não\n",
            "3     40       administrativo       casado  fundamental (6 anos)           não\n",
            "4     56             serviços       casado          ensino médio           não\n",
            "Quantidade de linhas: 41188\n",
            "Quantidade de colunas: 21\n",
            "\n",
            "Nomes das colunas:\n",
            "['idade', 'profissao', 'estado_civil', 'escolaridade', 'inadimplente', 'emprestimo_habitacional', 'emprestimo_pessoal', 'tipo_contato', 'mes_contato', 'dia_da_semana', 'duracao_contato', 'numero_contatos', 'dias_ultimo_contato', 'contatos_anteriores', 'resultado_campanha_anterior', 'taxa_variacao_emprego', 'indice_precos_consumidor', 'indice_confianca_consumidor', 'euribor_3m', 'numero_empregados', 'assinou_deposito']\n",
            "\n",
            "Tipos de dados das colunas:\n",
            "idade                            int64\n",
            "profissao                       object\n",
            "estado_civil                    object\n",
            "escolaridade                    object\n",
            "inadimplente                    object\n",
            "emprestimo_habitacional         object\n",
            "emprestimo_pessoal              object\n",
            "tipo_contato                    object\n",
            "mes_contato                     object\n",
            "dia_da_semana                   object\n",
            "duracao_contato                  int64\n",
            "numero_contatos                  int64\n",
            "dias_ultimo_contato              int64\n",
            "contatos_anteriores              int64\n",
            "resultado_campanha_anterior     object\n",
            "taxa_variacao_emprego          float64\n",
            "indice_precos_consumidor       float64\n",
            "indice_confianca_consumidor    float64\n",
            "euribor_3m                     float64\n",
            "numero_empregados              float64\n",
            "assinou_deposito                object\n",
            "dtype: object\n"
          ]
        }
      ],
      "source": [
        "# Pré-Processamento dos Dados\n",
        "\n",
        "# Carregando o conjunto de dados manualmente no Google Colab\n",
        "from google.colab import files\n",
        "import io\n",
        "\n",
        "# Fazer upload do arquivo\n",
        "print(\"Por favor, carregue o arquivo CSV do conjunto de dados.\")\n",
        "uploaded = files.upload()\n",
        "\n",
        "# Identificando o nome do arquivo carregado\n",
        "filename = list(uploaded.keys())[0]\n",
        "\n",
        "# Carregar o arquivo em um DataFrame pandas\n",
        "data = pd.read_csv(io.BytesIO(uploaded[filename]), sep=\";\")\n",
        "\n",
        "'''\n",
        "CSV, JSON e XML são formatos de armazenamento e troca de dados, cada um com características distintas:\n",
        "CSV (Comma-Separated Values): Formato simples e leve, ideal para armazenar dados tabulares, mas sem suporte a hierarquias ou metadados.\n",
        "JSON (JavaScript Object Notation): Estruturado, leve e fácil de ler, suporta hierarquias e é amplamente usado em APIs e aplicações web.\n",
        "XML (Extensible Markup Language): Estruturado e robusto, permite metadados e validação com schemas, mas é mais verboso que JSON.\n",
        "'''\n",
        "\n",
        "# Exibindo as primeiras linhas para entender os dados\n",
        "print(\"Visualizando as primeiras linhas do conjunto de dados:\")\n",
        "print(data.head().iloc[:, :5])    # .iloc é usado para indexação baseada em posição (linha, coluna).\n",
        "\n",
        "# Verificar a quantidade de linhas e colunas\n",
        "print(f\"Quantidade de linhas: {data.shape[0]}\")   # No pandas quando se usa o shape ele retorna (linhas, colunas)\n",
        "print(f\"Quantidade de colunas: {data.shape[1]}\")\n",
        "\n",
        "# Verificar os nomes das colunas\n",
        "print(\"\\nNomes das colunas:\")\n",
        "print(data.columns.tolist())\n",
        "\n",
        "# Visualizar os tipos de dados de cada coluna\n",
        "print(\"\\nTipos de dados das colunas:\")\n",
        "print(data.dtypes)"
      ]
    },
    {
      "cell_type": "code",
      "source": [
        "'''\n",
        "Explicação do dataset:\n",
        "\n",
        "O dataset é do tipo bancário, com informações sobre campanhas de marketing.\n",
        "A coluna 'assinou_deposito' indica se o cliente assinou (ou não) um depósito a prazo após a campanha.\n",
        "\n",
        "\n",
        "Nomes das colunas:\n",
        "['age', 'job', 'marital', 'education', 'default', 'housing', 'loan', 'contact', 'month', 'day_of_week', 'duration', 'campaign', 'pdays',\n",
        "'previous', 'poutcome', 'emp.var.rate', 'cons.price.idx', 'cons.conf.idx', 'euribor3m', 'nr.employed', 'y']\n",
        "\n",
        "\n",
        "Nomes das colunas (traduzidas):\n",
        "['idade', 'profissao', 'estado_civil', 'escolaridade', 'inadimplente', 'emprestimo_habitacional', 'emprestimo_pessoal',\n",
        "'tipo_contato', 'mes_contato', 'dia_da_semana', 'duracao_contato', 'numero_contatos', 'dias_ultimo_contato', 'contatos_anteriores',\n",
        "'resultado_campanha_anterior', 'taxa_variacao_emprego', 'indice_precos_consumidor', 'indice_confianca_consumidor', 'euribor_3m',\n",
        "'numero_empregados', 'assinou_deposito']\n",
        "\n",
        "Esta coluna contém valores como:\n",
        "\"yes\" → cliente assinou\n",
        "\"no\" → cliente não assinou\n",
        "\n",
        "Conclusão:\n",
        "y é a variável dependente, ou seja, a que queremos prever (classificação binária).\n",
        "Todas as outras colunas (age, job, duration, etc.) são variáveis independentes (features ou preditoras).\n",
        "'''"
      ],
      "metadata": {
        "colab": {
          "base_uri": "https://localhost:8080/",
          "height": 157
        },
        "id": "_97CnvuAZwdI",
        "outputId": "f3182b57-fa99-4a6b-9046-e1bd1df7c0f1"
      },
      "id": "_97CnvuAZwdI",
      "execution_count": 97,
      "outputs": [
        {
          "output_type": "execute_result",
          "data": {
            "text/plain": [
              "'\\nExplicação do dataset:\\n\\nO dataset é do tipo bancário, com informações sobre campanhas de marketing.\\nA coluna \\'assinou_deposito\\' indica se o cliente assinou (ou não) um depósito a prazo após a campanha.\\n\\n\\nNomes das colunas:\\n[\\'age\\', \\'job\\', \\'marital\\', \\'education\\', \\'default\\', \\'housing\\', \\'loan\\', \\'contact\\', \\'month\\', \\'day_of_week\\', \\'duration\\', \\'campaign\\', \\'pdays\\', \\n\\'previous\\', \\'poutcome\\', \\'emp.var.rate\\', \\'cons.price.idx\\', \\'cons.conf.idx\\', \\'euribor3m\\', \\'nr.employed\\', \\'y\\']\\n\\n\\nNomes das colunas (traduzidas):\\n[\\'idade\\', \\'profissao\\', \\'estado_civil\\', \\'escolaridade\\', \\'inadimplente\\', \\'emprestimo_habitacional\\', \\'emprestimo_pessoal\\', \\n\\'tipo_contato\\', \\'mes_contato\\', \\'dia_da_semana\\', \\'duracao_contato\\', \\'numero_contatos\\', \\'dias_ultimo_contato\\', \\'contatos_anteriores\\',\\n\\'resultado_campanha_anterior\\', \\'taxa_variacao_emprego\\', \\'indice_precos_consumidor\\', \\'indice_confianca_consumidor\\', \\'euribor_3m\\', \\n\\'numero_empregados\\', \\'assinou_deposito\\']\\n\\nEsta coluna contém valores como:\\n\"yes\" → cliente assinou\\n\"no\" → cliente não assinou\\n\\nConclusão:\\ny é a variável dependente, ou seja, a que queremos prever (classificação binária).\\nTodas as outras colunas (age, job, duration, etc.) são variáveis independentes (features ou preditoras).\\n'"
            ],
            "application/vnd.google.colaboratory.intrinsic+json": {
              "type": "string"
            }
          },
          "metadata": {},
          "execution_count": 97
        }
      ]
    },
    {
      "cell_type": "code",
      "execution_count": 98,
      "id": "583c054b",
      "metadata": {
        "id": "583c054b",
        "colab": {
          "base_uri": "https://localhost:8080/"
        },
        "outputId": "9b10d58a-e3af-4b9d-916e-179a43d67eb1"
      },
      "outputs": [
        {
          "output_type": "stream",
          "name": "stdout",
          "text": [
            "Verificando valores ausentes:\n",
            "idade                          0\n",
            "profissao                      0\n",
            "estado_civil                   0\n",
            "escolaridade                   0\n",
            "inadimplente                   0\n",
            "emprestimo_habitacional        0\n",
            "emprestimo_pessoal             0\n",
            "tipo_contato                   0\n",
            "mes_contato                    0\n",
            "dia_da_semana                  0\n",
            "duracao_contato                0\n",
            "numero_contatos                0\n",
            "dias_ultimo_contato            0\n",
            "contatos_anteriores            0\n",
            "resultado_campanha_anterior    0\n",
            "taxa_variacao_emprego          0\n",
            "indice_precos_consumidor       0\n",
            "indice_confianca_consumidor    0\n",
            "euribor_3m                     0\n",
            "numero_empregados              0\n",
            "assinou_deposito               0\n",
            "dtype: int64\n"
          ]
        }
      ],
      "source": [
        "# Verificando valores ausentes\n",
        "print(\"Verificando valores ausentes:\")\n",
        "print(data.isnull().sum())\n",
        "\n",
        "\n",
        "'''\n",
        "Identifica colunas com valores categóricos.\n",
        "Cria codificadores para elas.\n",
        "Transforma os textos em números (essencial para modelos de machine learning, que só trabalham com números).\n",
        "'''\n",
        "# Codificação de variáveis categóricas\n",
        "categorical_cols = data.select_dtypes(include=['object']).columns\n",
        "label_encoders = {col: LabelEncoder() for col in categorical_cols}\n",
        "for col, encoder in label_encoders.items():\n",
        "    data[col] = encoder.fit_transform(data[col])\n",
        "\n",
        "# Separando os atributos (X) e o rótulo (y)\n",
        "\n",
        "# X = data.drop(\"y\", axis=1)  # Atributos (variáveis independentes)\n",
        "X = data.drop(\"assinou_deposito\", axis=1)  # Atributos (variáveis independentes)\n",
        "# y = data[\"y\"]  # Rótulo (alvo) (variável dependente)\n",
        "y = data[\"assinou_deposito\"]  # Rótulo (alvo) (variável dependente)\n",
        "\n",
        "'''\n",
        "X (atributos/entradas)\n",
        "y (rótulo/saída)\n",
        "\n",
        "X e y são divigidos em subconjuntos:\n",
        "X_train, y_train: usados para treinar o modelo.\n",
        "X_test, y_test: usados para testar/avaliar o modelo.\n",
        "\n",
        "test_size=0.3\n",
        "Define que 30% dos dados vão para o conjunto de teste.\n",
        "Os 70% restantes vão para o treino.\n",
        "random_state=42. Garante que a divisão entre treino e teste seja reprodutível.\n",
        "stratify=y. Essa é uma opção muito importante em problemas de classificação. Garante que a proporção das classes seja a mesma nos dois conjuntos: treino e teste.\n",
        "Isso evita viés, especialmente quando os dados são desbalanceados (ex: 90% da classe 0 e 10% da classe 1).\n",
        "'''\n",
        "# Dividindo os dados em conjunto de treino (70%) e teste (30%)\n",
        "X_train, X_test, y_train, y_test = train_test_split(X, y, test_size=0.3, random_state=42, stratify=y)\n",
        "\n",
        "# Normalizando os dados para melhorar o desempenho dos modelos\n",
        "\n",
        "'''\n",
        "Cria um bjeto chamado scaler que será usado para padronizar (normalizar) os dados numéricos, usando a técnica conhecida como padronização z-score\n",
        "que pega seus números e ajusta eles para que fiquem numa escala comum.\n",
        "Assim, números muito grandes ou muito pequenos ficam mais comparáveis entre si, ajudando o classificador a entender melhor os dados.\n",
        "Modelos de machine learning (especialmente redes neurais, SVMs, KNN) funcionam melhor e mais rápido quando os dados estão em uma escala similar.\n",
        "Evita que variáveis com valores grandes (ex: salário em milhares) dominem outras com valores menores (ex: idade).\n",
        "'''\n",
        "scaler = StandardScaler()  # Criando o objeto de normalização\n",
        "X_train = scaler.fit_transform(X_train)  # Ajustando e transformando os dados de treino\n",
        "X_test = scaler.transform(X_test)  # Transformando os dados de teste com os mesmos parâmetros\n"
      ]
    },
    {
      "cell_type": "code",
      "source": [
        "# Gráfico de distribuição da variável alvo com a a frequência de adesão à campanha publicitária\n",
        "# Veja o quão estão desbalanceados a quantidade de exemplos das classes! Se não tratado pode criar viés de classificação na classe majoritária!\n",
        "\n",
        "# Mapear 0 → \"Não\" e 1 → \"Sim\"\n",
        "data_plot = data.copy()\n",
        "data_plot['assinou_deposito'] = data_plot['assinou_deposito'].map({0: 'Não', 1: 'Sim'})\n",
        "\n",
        "# Plotar o gráfico\n",
        "plt.figure(figsize=(5, 3))\n",
        "sns.countplot(data=data_plot, x='assinou_deposito', palette='pastel')\n",
        "plt.title('Distribuição da Variável Alvo (Assinou Depósito)')\n",
        "plt.xlabel('Classe')\n",
        "plt.ylabel('Número de Registros')\n",
        "plt.grid(axis='y', linestyle='--', alpha=0.5)\n",
        "plt.show()"
      ],
      "metadata": {
        "colab": {
          "base_uri": "https://localhost:8080/",
          "height": 441
        },
        "id": "2jRP0EikhGGl",
        "outputId": "72fa4302-85a5-4665-8ca3-b3da95ae924d"
      },
      "id": "2jRP0EikhGGl",
      "execution_count": 99,
      "outputs": [
        {
          "output_type": "stream",
          "name": "stderr",
          "text": [
            "<ipython-input-99-4037002354>:10: FutureWarning: \n",
            "\n",
            "Passing `palette` without assigning `hue` is deprecated and will be removed in v0.14.0. Assign the `x` variable to `hue` and set `legend=False` for the same effect.\n",
            "\n",
            "  sns.countplot(data=data_plot, x='assinou_deposito', palette='pastel')\n"
          ]
        },
        {
          "output_type": "display_data",
          "data": {
            "text/plain": [
              "<Figure size 500x300 with 1 Axes>"
            ],
            "image/png": "[encoded data removed]"
          },
          "metadata": {}
        }
      ]
    },
    {
      "cell_type": "markdown",
      "source": [
        "### ETAPAS 4 e 5 - Modelagem e Avaliação"
      ],
      "metadata": {
        "id": "QWSiw2gxMdtt"
      },
      "id": "QWSiw2gxMdtt"
    },
    {
      "cell_type": "code",
      "execution_count": 100,
      "id": "2db821cb",
      "metadata": {
        "id": "2db821cb",
        "colab": {
          "base_uri": "https://localhost:8080/",
          "height": 1000
        },
        "outputId": "bdcf89c1-f472-491b-db3b-ce36d1fd92e5"
      },
      "outputs": [
        {
          "output_type": "stream",
          "name": "stdout",
          "text": [
            "Modelo: Naive Bayes\n",
            "Matriz de Confusão:\n",
            "[[9662 1303]\n",
            " [ 545  847]]\n",
            "Acurácia: 0.85\n",
            "--------------------------------------------------\n",
            "Modelo: Árvore de Decisão\n",
            "Matriz de Confusão:\n",
            "[[10265   700]\n",
            " [  670   722]]\n",
            "Acurácia: 0.89\n",
            "--------------------------------------------------\n",
            "Modelo: Random Forest\n",
            "Matriz de Confusão:\n",
            "[[10634   331]\n",
            " [  688   704]]\n",
            "Acurácia: 0.92\n",
            "--------------------------------------------------\n",
            "Modelo: Gradient Boosting\n",
            "Matriz de Confusão:\n",
            "[[10613   352]\n",
            " [  665   727]]\n",
            "Acurácia: 0.92\n",
            "--------------------------------------------------\n",
            "Modelo: K-Nearest Neighbors\n",
            "Matriz de Confusão:\n",
            "[[10599   366]\n",
            " [  860   532]]\n",
            "Acurácia: 0.90\n",
            "--------------------------------------------------\n",
            "Modelo: Support Vector Machines (SVM)\n",
            "Matriz de Confusão:\n",
            "[[10731   234]\n",
            " [  876   516]]\n",
            "Acurácia: 0.91\n",
            "--------------------------------------------------\n",
            "Resultados da Rede Neural:\n",
            "Acurácia no conjunto de teste: 0.91\n",
            "\u001b[1m387/387\u001b[0m \u001b[32m━━━━━━━━━━━━━━━━━━━━\u001b[0m\u001b[37m\u001b[0m \u001b[1m1s\u001b[0m 2ms/step\n"
          ]
        },
        {
          "output_type": "display_data",
          "data": {
            "text/plain": [
              "<Figure size 400x400 with 2 Axes>"
            ],
            "image/png": "[encoded data removed]"
          },
          "metadata": {}
        },
        {
          "output_type": "display_data",
          "data": {
            "text/plain": [
              "<Figure size 500x300 with 1 Axes>"
            ],
            "image/png": "[encoded data removed]"
          },
          "metadata": {}
        },
        {
          "output_type": "display_data",
          "data": {
            "text/plain": [
              "<Figure size 500x300 with 1 Axes>"
            ],
            "image/png": "[encoded data removed]"
          },
          "metadata": {}
        }
      ],
      "source": [
        "# Treinamento e Avaliação dos Modelos\n",
        "\n",
        "# Função para treinar e avaliar os modelos\n",
        "def train_and_evaluate_model(model, model_name):\n",
        "    # Treinando o modelo\n",
        "    model.fit(X_train, y_train)   # X_train são as entradas (exemplos de dados). y_train\tsão as saídas (respostas corretas)\n",
        "\n",
        "    # Fazendo previsões no conjunto de teste\n",
        "    y_pred = model.predict(X_test)  # y_pred\tsão as respostas que o modelo deu. X_test são os novos exemplos para o modelo classificar\n",
        "    y_pred = y_pred.astype(int)  # Garantindo que as previsões sejam inteiros\n",
        "\n",
        "    # Avaliação do desempenho\n",
        "    print(f\"Modelo: {model_name}\")  # imprime o nome do modelo\n",
        "    print(\"Matriz de Confusão:\")\n",
        "    print(confusion_matrix(y_test, y_pred))   # y_test são as classificações corretas dos exemplos novos (Ground Truth) e y_pred é a classificação que o modelo fez (a previsão do modelo).\n",
        "    print(f\"Acurácia: {accuracy_score(y_test, y_pred):.2f}\")\n",
        "    print(\"-\" * 50) # imprimi uma linha horizontal com 50 traços\n",
        "\n",
        "\n",
        "### Algoritmos de Machine Learning ###\n",
        "\n",
        "# Naive Bayes\n",
        "nb_model = GaussianNB()  # criando um modelo de aprendizado de máquina usando o algoritmo Naive Bayes\n",
        "train_and_evaluate_model(nb_model, \"Naive Bayes\")\n",
        "\n",
        "# Árvore de Decisão\n",
        "# random_state=42 é utilizado para o algoritmo use sempre a mesma sequência de aleatoriedade do conjunto de dados para que o resultado seja igual toda vez. É importante usar o mesmo número para que o resultado seja reproduzível.\n",
        "tree_model = DecisionTreeClassifier(random_state=42)  # criando um modelo de aprendizado de máquina usando o algoritmo Árvore de Decisão.\n",
        "train_and_evaluate_model(tree_model, \"Árvore de Decisão\")\n",
        "\n",
        "# Random Forest\n",
        "rf_model = RandomForestClassifier(random_state=42)  # criando um modelo de aprendizado de máquina usando o algoritmo Random Forest\n",
        "train_and_evaluate_model(rf_model, \"Random Forest\")\n",
        "\n",
        "# Treinamento e avaliação - Gradient Boosting\n",
        "gb_model = GradientBoostingClassifier(random_state=42)  # criando um modelo de aprendizado de máquina usando o algoritmo Gradient Boosting\n",
        "train_and_evaluate_model(gb_model, \"Gradient Boosting\")\n",
        "\n",
        "# K-Nearest Neighbors (KNN)\n",
        "knn_model = KNeighborsClassifier()  # criando um modelo de aprendizado de máquina usando o algoritmo K-Nearest Neighbors\n",
        "train_and_evaluate_model(knn_model, \"K-Nearest Neighbors\")\n",
        "\n",
        "# Support Vector Machines (SVM)\n",
        "# rbf significa \"Radial Basis Function\". É o tipo de kernel mais usado e funciona bem quando os dados não são separáveis por uma linha reta (ou plano, no caso de mais dimensões).\n",
        "svm_model = SVC(kernel='rbf', random_state=42)  # criando um modelo de aprendizado de máquina usando o algoritmo Support Vector Machines\n",
        "train_and_evaluate_model(svm_model, \"Support Vector Machines (SVM)\")\n",
        "\n",
        "\n",
        "### Redes Neurais Artificiais ###\n",
        "\n",
        "# Construindo o modelo de Rede Neural\n",
        "nn_model = Sequential([\n",
        "    Input(shape=(X_train.shape[1],)),  # Especificando a forma da entrada com Input\n",
        "    Dense(16, activation='relu'),      # Primeira camada oculta com 16 neurônios\n",
        "    Dense(8, activation='relu'),       # Segunda camada oculta com 8 neurônios\n",
        "    Dense(1, activation='sigmoid')     # Camada de saída com 1 neurônio (classificação binária)\n",
        "])\n",
        "\n",
        "# Compilando o modelo com função de perda binária e otimizador Adam\n",
        "nn_model.compile(optimizer='adam', loss='binary_crossentropy', metrics=['accuracy'])\n",
        "\n",
        "'''\n",
        "optimizer='adam'. O \"otimizador\" é o que ajusta os pesos da rede neural durante o aprendizado. adam é um otimizador muito usado, rápido e eficiente.\n",
        "Ele ajuda a minimizar o erro da rede a cada passo. Pense como alguém dando dicas ao aluno sobre como melhorar a resposta. Outro exemplo de otimizador é o SGD.\n",
        "\n",
        "loss='binary_crossentropy'. A função de perda (loss) mede o quão errada a rede está nas suas previsões. binary_crossentropy é usada quando você está resolvendo\n",
        "um problema de classificação binária (ex: sim/não, 0/1, positivo/negativo). A rede tenta minimizar esse valor ao treinar.\n",
        "\n",
        "metrics=['accuracy']. Aqui você diz: \"Enquanto treina, me diga a acurácia\". Acurácia (accuracy) = quantas vezes a rede acertou a resposta.\n",
        "'''\n",
        "\n",
        "# Treinando o modelo com 50 épocas e tamanho de lote 32\n",
        "history = nn_model.fit(X_train, y_train, epochs=50, batch_size=32, verbose=0, validation_split=0.2)  # verbose = 0 (modo silencioso: nenhuma mensagem de progresso ou log será exibida durante o processo)\n",
        "\n",
        "# Avaliando o modelo no conjunto de teste\n",
        "nn_loss, nn_accuracy = nn_model.evaluate(X_test, y_test, verbose=0)\n",
        "\n",
        "# Resultados da Rede Neural\n",
        "print(\"Resultados da Rede Neural:\")\n",
        "print(f\"Acurácia no conjunto de teste: {nn_accuracy:.2f}\")\n",
        "\n",
        "# Fazendo previsões (probabilidades)\n",
        "y_pred_prob = nn_model.predict(X_test)\n",
        "\n",
        "# Convertendo para classes binárias (0 ou 1)\n",
        "y_pred = (y_pred_prob > 0.5).astype(int)\n",
        "\n",
        "# Gerando matriz de confusão\n",
        "cm = confusion_matrix(y_test, y_pred)\n",
        "\n",
        "'''\n",
        "Função da biblioteca Seaborn que cria um mapa de calor (heatmap), ou seja, uma tabela colorida que ajuda a visualizar os valores de uma matriz.\n",
        "cm - A matriz de confusão que será exibida. Geralmente é uma matriz 2x2 para classificação binária, mostrando quantos valores foram classificados corretamente ou errados.\n",
        "annot=True - Exibe os números dentro das células do mapa de calor (anotações), mostrando o valor exato de cada posição da matriz.\n",
        "fmt='d' - Formato dos números mostrados nas células. 'd' significa que os valores serão exibidos como inteiros decimais.\n",
        "cmap='Blues' - Define o esquema de cores usado para o mapa, neste caso tons de azul, onde cores mais escuras indicam valores maiores.\n",
        "xticklabels=['Negativo', 'Positivo'] - Rótulos personalizados para as colunas da matriz no eixo X, representando as classes previstas.\n",
        "yticklabels=['Negativo', 'Positivo'] - Rótulos personalizados para as linhas da matriz no eixo Y, representando as classes reais.\n",
        "'''\n",
        "# Exibindo a matriz com seaborn\n",
        "plt.figure(figsize=(4, 4))\n",
        "sns.heatmap(cm, annot=True, fmt='d', cmap='Blues', xticklabels=['Negativo', 'Positivo'], yticklabels=['Negativo', 'Positivo'])\n",
        "plt.xlabel('Previsto')\n",
        "plt.ylabel('Real')\n",
        "plt.title('Matriz de Confusão - Rede Neural')\n",
        "plt.tight_layout()\n",
        "plt.show()\n",
        "\n",
        "# Curva de Perda (Loss) de Treinamento vs Validação\n",
        "plt.figure(figsize=(5, 3))\n",
        "plt.plot(history.history['loss'], label='Treinamento')\n",
        "plt.plot(history.history['val_loss'], label='Validação')\n",
        "plt.title('Curva de Perda (Loss)')\n",
        "plt.xlabel('Épocas')\n",
        "plt.ylabel('Loss')\n",
        "plt.legend()\n",
        "plt.grid(True)\n",
        "plt.tight_layout()\n",
        "plt.show()\n",
        "\n",
        "# Curva de Acurácia de Treinamento vs Validação\n",
        "plt.figure(figsize=(5, 3))\n",
        "plt.plot(history.history['accuracy'], label='Treinamento')    # usa os dados salvos durante o treino (history) para mostrar como a rede foi melhorando (ou não) a cada época\n",
        "plt.plot(history.history['val_accuracy'], label='Validação')  # usa os dados salvos durante a validação (history) para mostrar como a rede foi melhorando (ou não) a cada época\n",
        "plt.title('Curva de Acurácia')\n",
        "plt.xlabel('Épocas')\n",
        "plt.ylabel('Acurácia')\n",
        "plt.legend()\n",
        "plt.grid(True)\n",
        "plt.tight_layout()   # ajusta automaticamente o espaçamento entre os elementos do gráfico (título, eixos, legenda etc.) para que nada fique cortado ou sobreposto.\n",
        "plt.show()"
      ]
    },
    {
      "cell_type": "code",
      "source": [
        "'''\n",
        "Com base na curva de perda apresentada na imagem, segue uma análise:\n",
        "\n",
        "Interpretação da Curva\n",
        "Linha azul (Treinamento): A perda diminui de forma consistente, indicando que o modelo está aprendendo bem com os dados de treinamento.\n",
        "Linha laranja (Validação): Também diminui inicialmente, mas estabiliza em torno da época 10-15, com pequenas oscilações até o fim.\n",
        "\n",
        "🧠 Possível Diagnóstico\n",
        "O modelo não parece estar sofrendo de overfitting de forma severa, já que a perda de validação permanece próxima da perda de treinamento.\n",
        "As curvas seguem trajetórias semelhantes, o que sugere que o modelo está generalizando razoavelmente bem.\n",
        "A perda estabilizada após certo ponto é comum e pode indicar que o modelo chegou próximo ao seu melhor desempenho com os hiperparâmetros atuais.\n",
        "\n",
        "✅ Conclusão\n",
        "Treinamento eficiente.\n",
        "Sem indícios fortes de overfitting ou underfitting.\n",
        "\n",
        "Melhorias possíveis: tentar técnicas como regularização, dropout ou ajuste da taxa de aprendizado para melhorar ainda mais a performance.\n",
        "'''"
      ],
      "metadata": {
        "colab": {
          "base_uri": "https://localhost:8080/",
          "height": 140
        },
        "id": "YEuUszMqVXhd",
        "outputId": "baf4a2c2-2ea2-428e-902f-0094c8835144"
      },
      "id": "YEuUszMqVXhd",
      "execution_count": 101,
      "outputs": [
        {
          "output_type": "execute_result",
          "data": {
            "text/plain": [
              "'\\nCom base na curva de perda apresentada na imagem, segue uma análise:\\n\\nInterpretação da Curva\\nLinha azul (Treinamento): A perda diminui de forma consistente, indicando que o modelo está aprendendo bem com os dados de treinamento.\\nLinha laranja (Validação): Também diminui inicialmente, mas estabiliza em torno da época 10-15, com pequenas oscilações até o fim.\\n\\n🧠 Possível Diagnóstico\\nO modelo não parece estar sofrendo de overfitting de forma severa, já que a perda de validação permanece próxima da perda de treinamento.\\nAs curvas seguem trajetórias semelhantes, o que sugere que o modelo está generalizando razoavelmente bem.\\nA perda estabilizada após certo ponto é comum e pode indicar que o modelo chegou próximo ao seu melhor desempenho com os hiperparâmetros atuais.\\n\\n✅ Conclusão\\nTreinamento eficiente.\\nSem indícios fortes de overfitting ou underfitting.\\n\\nMelhorias possíveis: tentar técnicas como regularização, dropout ou ajuste da taxa de aprendizado para melhorar ainda mais a performance.\\n'"
            ],
            "application/vnd.google.colaboratory.intrinsic+json": {
              "type": "string"
            }
          },
          "metadata": {},
          "execution_count": 101
        }
      ]
    },
    {
      "cell_type": "code",
      "source": [
        "'''\n",
        "Com base na curva de acurácia apresentada na imagem, segue uma análise:\n",
        "\n",
        "📈 Interpretação da Curva\n",
        "Linha azul (Treinamento): A acurácia sobe rapidamente nas primeiras épocas e se estabiliza em torno de 92%.\n",
        "Linha laranja (Validação): Também sobe rapidamente e permanece próxima da linha de treinamento, em torno de 91%–91.5%.\n",
        "\n",
        "⚖️ Diagnóstico\n",
        "Bom desempenho: As curvas de acurácia estão altas e próximas, o que indica que o modelo está aprendendo bem e generalizando de forma adequada.\n",
        "Sem overfitting: A diferença entre treino e validação é pequena. Isso sugere que o modelo não memorizou os dados, mas está de fato aprendendo padrões úteis.\n",
        "Estabilidade: Ambas as curvas são relativamente estáveis após as primeiras 5–10 épocas, sem grandes flutuações.\n",
        "\n",
        "✅ Conclusão\n",
        "O modelo está bem ajustado.\n",
        "Não há necessidade urgente de regularizações adicionais (como dropout), mas poderia experimentar para ver se melhora marginalmente.\n",
        "Talvez valha a pena aplicar early stopping para encurtar o treinamento por volta da época 10–20, quando o desempenho já está saturado.\n",
        "\n",
        "Melhorias possíveis:\n",
        "Ajustes de hiperparâmetros para tentar passar de 92%.\n",
        "Estratégias para melhorar a acurácia da validação.\n",
        "'''"
      ],
      "metadata": {
        "colab": {
          "base_uri": "https://localhost:8080/",
          "height": 140
        },
        "collapsed": true,
        "id": "GS24DtVTXyha",
        "outputId": "c2ec57a4-e312-4829-b07c-8f680366376b"
      },
      "id": "GS24DtVTXyha",
      "execution_count": 102,
      "outputs": [
        {
          "output_type": "execute_result",
          "data": {
            "text/plain": [
              "'\\nCom base na curva de acurácia apresentada na imagem, segue uma análise:\\n\\n📈 Interpretação da Curva\\nLinha azul (Treinamento): A acurácia sobe rapidamente nas primeiras épocas e se estabiliza em torno de 92%.\\nLinha laranja (Validação): Também sobe rapidamente e permanece próxima da linha de treinamento, em torno de 91%–91.5%.\\n\\n⚖️ Diagnóstico\\nBom desempenho: As curvas de acurácia estão altas e próximas, o que indica que o modelo está aprendendo bem e generalizando de forma adequada.\\nSem overfitting: A diferença entre treino e validação é pequena. Isso sugere que o modelo não memorizou os dados, mas está de fato aprendendo padrões úteis.\\nEstabilidade: Ambas as curvas são relativamente estáveis após as primeiras 5–10 épocas, sem grandes flutuações.\\n\\n✅ Conclusão\\nO modelo está bem ajustado.\\nNão há necessidade urgente de regularizações adicionais (como dropout), mas poderia experimentar para ver se melhora marginalmente.\\nTalvez valha a pena aplicar early stopping para encurtar o treinamento por volta da época 10–20, quando o desempenho já está saturado.\\n\\nMelhorias possíveis:\\nAjustes de hiperparâmetros para tentar passar de 92%.\\nEstratégias para melhorar a acurácia da validação.\\n'"
            ],
            "application/vnd.google.colaboratory.intrinsic+json": {
              "type": "string"
            }
          },
          "metadata": {},
          "execution_count": 102
        }
      ]
    },
    {
      "cell_type": "markdown",
      "id": "4c28194a",
      "metadata": {
        "id": "4c28194a"
      },
      "source": [
        "\n",
        "### Conclusão\n",
        "\n",
        "Neste notebook, utilizamos o Bank Marketing Dataset para prever se um cliente aceitará ou não uma oferta de depósito a prazo.\n",
        "\n",
        "Exploramos diferentes algoritmos de classificação, incluindo um modelo de Rede Neural Artificial, para analisar o desempenho com base em métricas como acurácia e matriz de confusão.\n",
        "\n",
        "Sinta-se à vontade para ajustar os modelos ou realizar mais análises para otimizar os resultados!\n",
        "\n",
        "A próximas etapa (ETAPA 6), segundo a metodologia **CRISP-DM** (responsável por guiar o processo de um projeto de ciência de dados) seria o **Deploy** (ou \"Implantação\"), que trata-se da fase em que o modelo criado e avaliado é colocado em uso prático.\n",
        "\n",
        "Ou seja, é quando o que você construiu no laboratório começa a ser usado de verdade por sistemas, usuários ou decisões do negócio.\n",
        "\n",
        "Exemplo de todas as etapas que compõem o CRISP-DM:\n",
        "\n",
        "![image.png](data:image/png;base64,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)"
      ]
    },
    {
      "cell_type": "markdown",
      "source": [
        "### ETAPA 6 - Deploy - Apenas um exemplo!"
      ],
      "metadata": {
        "id": "7tlSuPXtXFvA"
      },
      "id": "7tlSuPXtXFvA"
    },
    {
      "cell_type": "code",
      "source": [
        "'''\n",
        "Vamos usar uma ferramenta chamada Streamlit. Ela é perfeita para o seu objetivo, pois permite criar aplicações web com pouquíssimo código, de forma muito visual e prática, ideal para quem está começando.\n",
        "\n",
        "Aqui está o plano, dividido em 4 partes:\n",
        "\n",
        "1. Preparar o Notebook: Salvar o \"cérebro\" do nosso modelo e os pré-processadores.\n",
        "2. Criar o Arquivo da Aplicação: Escrever o código Python (app.py) que será a nossa interface web.\n",
        "3. Listar as Dependências: Criar um arquivo (requirements.txt) que diz ao servidor quais bibliotecas nosso código precisa.\n",
        "4. Publicar na Web: Fazer o deploy de graça usando o Streamlit Community Cloud e o GitHub.\n",
        "'''"
      ],
      "metadata": {
        "colab": {
          "base_uri": "https://localhost:8080/",
          "height": 105
        },
        "id": "7lp0wiOLXR90",
        "outputId": "20f3ce18-2d34-4b75-aa6d-fd918ccdfdf8"
      },
      "id": "7lp0wiOLXR90",
      "execution_count": 103,
      "outputs": [
        {
          "output_type": "execute_result",
          "data": {
            "text/plain": [
              "'\\nVamos usar uma ferramenta chamada Streamlit. Ela é perfeita para o seu objetivo, pois permite criar aplicações web com pouquíssimo código, de forma muito visual e prática, ideal para quem está começando.\\n\\nAqui está o plano, dividido em 4 partes:\\n\\n1. Preparar o Notebook: Salvar o \"cérebro\" do nosso modelo e os pré-processadores.\\n2. Criar o Arquivo da Aplicação: Escrever o código Python (app.py) que será a nossa interface web.\\n3. Listar as Dependências: Criar um arquivo (requirements.txt) que diz ao servidor quais bibliotecas nosso código precisa.\\n4. Publicar na Web: Fazer o deploy de graça usando o Streamlit Community Cloud e o GitHub.\\n'"
            ],
            "application/vnd.google.colaboratory.intrinsic+json": {
              "type": "string"
            }
          },
          "metadata": {},
          "execution_count": 103
        }
      ]
    },
    {
      "cell_type": "code",
      "source": [
        "'''\n",
        "Parte 1: Preparar seu Notebook\n",
        "\n",
        "Antes de criar a aplicação, precisamos salvar os componentes essenciais que você treinou no seu notebook. O mais importante é o modelo de Machine Learning e os \"tradutores\" de dados (LabelEncoder) que você usou.\n",
        "'''"
      ],
      "metadata": {
        "colab": {
          "base_uri": "https://localhost:8080/",
          "height": 53
        },
        "id": "O_eJyEp_XtRn",
        "outputId": "e023509a-d1bb-4a1b-f70f-b2bbf0c97e4f"
      },
      "id": "O_eJyEp_XtRn",
      "execution_count": 104,
      "outputs": [
        {
          "output_type": "execute_result",
          "data": {
            "text/plain": [
              "'\\nParte 1: Preparar seu Notebook\\n\\nAntes de criar a aplicação, precisamos salvar os componentes essenciais que você treinou no seu notebook. O mais importante é o modelo de Machine Learning e os \"tradutores\" de dados (LabelEncoder) que você usou.\\n'"
            ],
            "application/vnd.google.colaboratory.intrinsic+json": {
              "type": "string"
            }
          },
          "metadata": {},
          "execution_count": 104
        }
      ]
    },
    {
      "cell_type": "code",
      "source": [
        "import joblib\n",
        "import pandas as pd\n",
        "import numpy as np\n",
        "from sklearn.preprocessing import LabelEncoder, StandardScaler\n",
        "from sklearn.ensemble import RandomForestClassifier\n",
        "from sklearn.model_selection import train_test_split\n",
        "\n",
        "# 1. Carregar os dados\n",
        "dados = pd.read_csv('bank-additional-full-ptbr.csv', sep=';')\n",
        "\n",
        "# 2. Identificar colunas categóricas automaticamente (exceto a coluna alvo)\n",
        "coluna_alvo = 'assinou_deposito'\n",
        "colunas_categoricas = dados.select_dtypes(include='object').columns.tolist()\n",
        "colunas_categoricas = [col for col in colunas_categoricas if col != coluna_alvo]\n",
        "\n",
        "# 3. Aplicar LabelEncoder nas colunas categóricas\n",
        "encoders = {}\n",
        "for coluna in colunas_categoricas:\n",
        "    le = LabelEncoder()\n",
        "    dados[coluna] = le.fit_transform(dados[coluna])\n",
        "    encoders[coluna] = le\n",
        "\n",
        "# 4. Codificar a variável alvo\n",
        "le_y = LabelEncoder()\n",
        "dados[coluna_alvo] = le_y.fit_transform(dados[coluna_alvo])\n",
        "encoders[coluna_alvo] = le_y\n",
        "\n",
        "# 5. Separar X e y\n",
        "x = dados.drop(coluna_alvo, axis=1)\n",
        "y = dados[coluna_alvo]\n",
        "\n",
        "# 6. Dividir em treino e teste com estratificação - preservar as mesmas proporções de exemplos em cada classe\n",
        "x_train, x_test, y_train, y_test = train_test_split(\n",
        "    x, y, test_size=0.3, stratify=y, random_state=42\n",
        ")\n",
        "\n",
        "# 7. Normalizar os dados com StandardScaler\n",
        "scaler = StandardScaler()\n",
        "x_train = scaler.fit_transform(x_train)\n",
        "x_test = scaler.transform(x_test)\n",
        "\n",
        "# 8. Subamostragem manual da classe majoritária no conjunto de treino\n",
        "\n",
        "# Identifica índices das classes\n",
        "class_0_indices = np.where(y_train == 0)[0]\n",
        "class_1_indices = np.where(y_train == 1)[0]\n",
        "\n",
        "# Subamostra aleatoriamente a classe majoritária para equilibrar\n",
        "np.random.seed(42)\n",
        "class_0_sampled = np.random.choice(class_0_indices, size=len(class_1_indices), replace=False)\n",
        "\n",
        "# Combina as amostras balanceadas\n",
        "balanced_indices = np.concatenate([class_0_sampled, class_1_indices])\n",
        "\n",
        "# Aplica o balanceamento nos dados\n",
        "x_train_bal = x_train[balanced_indices]\n",
        "y_train_bal = y_train.iloc[balanced_indices]\n",
        "\n",
        "# 9. Treinar modelo SVM\n",
        "svm_model = SVC(\n",
        "    kernel='rbf',\n",
        "    probability=True,               # Necessário para usar predict_proba()\n",
        "    class_weight='balanced',       # Compensa o desbalanceamento\n",
        "    random_state=42\n",
        ")\n",
        "svm_model.fit(x_train_bal, y_train_bal)\n",
        "\n",
        "# 10. Salvar o modelo, scaler, encoders e colunas\n",
        "joblib.dump(rf_model, 'modelo_svm_model.joblib')\n",
        "joblib.dump(scaler, 'scaler.joblib')\n",
        "joblib.dump(encoders, 'encoders.joblib')\n",
        "joblib.dump(x.columns.tolist(), 'colunas_modelo.joblib')\n",
        "\n",
        "print(\"✅ Modelo, scaler e encoders salvos com sucesso!\")"
      ],
      "metadata": {
        "colab": {
          "base_uri": "https://localhost:8080/"
        },
        "id": "MBN-zlQDX0ug",
        "outputId": "3f40ddd5-c95e-46f4-c0a2-271daa1ec483"
      },
      "id": "MBN-zlQDX0ug",
      "execution_count": 105,
      "outputs": [
        {
          "output_type": "stream",
          "name": "stdout",
          "text": [
            "✅ Modelo, scaler e encoders salvos com sucesso!\n"
          ]
        }
      ]
    },
    {
      "cell_type": "code",
      "source": [],
      "metadata": {
        "id": "XCuIjqP4LFg6"
      },
      "id": "XCuIjqP4LFg6",
      "execution_count": 105,
      "outputs": []
    },
    {
      "cell_type": "code",
      "source": [],
      "metadata": {
        "id": "TfsoKG7iLGTC"
      },
      "id": "TfsoKG7iLGTC",
      "execution_count": 105,
      "outputs": []
    },
    {
      "cell_type": "code",
      "source": [],
      "metadata": {
        "id": "xhgeV9TmLGOl"
      },
      "id": "xhgeV9TmLGOl",
      "execution_count": 105,
      "outputs": []
    },
    {
      "cell_type": "code",
      "source": [],
      "metadata": {
        "id": "Y4v2ODVPLGLg"
      },
      "id": "Y4v2ODVPLGLg",
      "execution_count": 105,
      "outputs": []
    },
    {
      "cell_type": "code",
      "source": [
        "import matplotlib.pyplot as plt\n",
        "\n",
        "# Contagem das classes antes do balanceamento\n",
        "counts_before = y_train.value_counts().sort_index()\n",
        "# Contagem das classes depois do balanceamento\n",
        "counts_after = y_train_bal.value_counts().sort_index()\n",
        "\n",
        "fig, axs = plt.subplots(1, 2, figsize=(9, 4))\n",
        "\n",
        "# Antes do balanceamento\n",
        "axs[0].bar(counts_before.index.astype(str), counts_before.values, color='skyblue')\n",
        "axs[0].set_title('Distribuição das classes - Antes do Balanceamento')\n",
        "axs[0].set_xlabel('Classe')\n",
        "axs[0].set_ylabel('Quantidade')\n",
        "axs[0].grid(axis='y')\n",
        "\n",
        "# Depois do balanceamento\n",
        "axs[1].bar(counts_after.index.astype(str), counts_after.values, color='lightgreen')\n",
        "axs[1].set_title('Distribuição das classes - Depois do Balanceamento')\n",
        "axs[1].set_xlabel('Classe')\n",
        "axs[1].set_ylabel('Quantidade')\n",
        "axs[1].grid(axis='y')\n",
        "\n",
        "plt.tight_layout()\n",
        "plt.show()\n"
      ],
      "metadata": {
        "colab": {
          "base_uri": "https://localhost:8080/",
          "height": 407
        },
        "id": "SrOWMxlbI9zE",
        "outputId": "21012cae-c6eb-4365-b912-8ef5c70dd4d9"
      },
      "id": "SrOWMxlbI9zE",
      "execution_count": 117,
      "outputs": [
        {
          "output_type": "display_data",
          "data": {
            "text/plain": [
              "<Figure size 900x400 with 2 Axes>"
            ],
            "image/png": "[encoded data removed]"
          },
          "metadata": {}
        }
      ]
    },
    {
      "cell_type": "code",
      "source": [
        "'''\n",
        "Após executar essa célula, você terá 4 novos arquivos na mesma pasta do seu notebook. Eles são essenciais para a próxima etapa.\n",
        "'''"
      ],
      "metadata": {
        "colab": {
          "base_uri": "https://localhost:8080/",
          "height": 36
        },
        "id": "NT87zReoX5Dj",
        "outputId": "e56b0773-f710-4b1f-ff8e-614a56ccf8b8"
      },
      "id": "NT87zReoX5Dj",
      "execution_count": 107,
      "outputs": [
        {
          "output_type": "execute_result",
          "data": {
            "text/plain": [
              "'\\nApós executar essa célula, você terá 4 novos arquivos na mesma pasta do seu notebook. Eles são essenciais para a próxima etapa.\\n'"
            ],
            "application/vnd.google.colaboratory.intrinsic+json": {
              "type": "string"
            }
          },
          "metadata": {},
          "execution_count": 107
        }
      ]
    },
    {
      "cell_type": "code",
      "source": [
        "'''\n",
        "Parte 2: Criar o Arquivo da Aplicação (app.py)\n",
        "\n",
        "Agora, crie um novo arquivo de texto e salve-o com o nome app.py. Cole o seguinte código dentro dele. Este é o código da nossa aplicação web.\n",
        "'''"
      ],
      "metadata": {
        "colab": {
          "base_uri": "https://localhost:8080/",
          "height": 53
        },
        "id": "Swz3nDOjX9J2",
        "outputId": "88a915d2-98d6-4509-f8eb-36df4c15916a"
      },
      "id": "Swz3nDOjX9J2",
      "execution_count": 108,
      "outputs": [
        {
          "output_type": "execute_result",
          "data": {
            "text/plain": [
              "'\\nParte 2: Criar o Arquivo da Aplicação (app.py)\\n\\nAgora, crie um novo arquivo de texto e salve-o com o nome app.py. Cole o seguinte código dentro dele. Este é o código da nossa aplicação web.\\n'"
            ],
            "application/vnd.google.colaboratory.intrinsic+json": {
              "type": "string"
            }
          },
          "metadata": {},
          "execution_count": 108
        }
      ]
    },
    {
      "cell_type": "code",
      "source": [
        "'''\n",
        "\n",
        "import streamlit as st\n",
        "import pandas as pd\n",
        "import joblib\n",
        "\n",
        "# Carregar o modelo, os encoders, as colunas e o scaler\n",
        "try:\n",
        "    model = joblib.load('modelo_svm_model.joblib')\n",
        "    encoders = joblib.load('encoders.joblib')\n",
        "    model_columns = joblib.load('colunas_modelo.joblib')\n",
        "    scaler = joblib.load('scaler.joblib')  # ✅ carregando o scaler\n",
        "except FileNotFoundError:\n",
        "    st.error(\"Arquivos de modelo, encoders ou scaler não encontrados. Certifique-se de que estão na mesma pasta que o app.py.\")\n",
        "    st.stop()\n",
        "\n",
        "# --- FUNÇÃO DE PRÉ-PROCESSAMENTO ---\n",
        "def preprocess_input(data):\n",
        "    # Cria um DataFrame com os dados do usuário\n",
        "    user_df = pd.DataFrame([data])\n",
        "\n",
        "    # Aplica os encoders nas colunas categóricas\n",
        "    for column, encoder in encoders.items():\n",
        "        if column in user_df.columns and column != 'assinou_deposito':\n",
        "            valor_usuario = user_df[column].iloc[0]\n",
        "            if valor_usuario in encoder.classes_:\n",
        "                user_df[column] = encoder.transform([valor_usuario])[0]\n",
        "            else:\n",
        "                st.error(f\"Valor '{valor_usuario}' não encontrado no encoder da coluna '{column}'.\")\n",
        "                st.stop()\n",
        "\n",
        "    # Garante a estrutura correta das colunas\n",
        "    processed_df = pd.DataFrame(columns=model_columns)\n",
        "    processed_df.loc[0] = 0  # Inicializa todas as colunas com zero\n",
        "\n",
        "    for col in user_df.columns:\n",
        "        if col in processed_df.columns:\n",
        "            processed_df[col] = user_df[col].values[0]\n",
        "\n",
        "    # ✅ Aplica o scaler para normalizar os dados\n",
        "    processed_scaled = scaler.transform(processed_df)\n",
        "\n",
        "    return processed_scaled\n",
        "\n",
        "# --- INTERFACE DO USUÁRIO COM STREAMLIT ---\n",
        "\n",
        "st.set_page_config(page_title=\"Previsão de Marketing Bancário\", layout=\"wide\")\n",
        "st.title('🤖 Aplicação de Previsão de Adesão a uma Campanha Bancária')\n",
        "st.title('Por: Professor Carlos Santos - Instituto Federal Farroupilha Câmpus Alegrete')\n",
        "st.write('Esta aplicação utiliza um modelo de Machine Learning (SVM) para prever se um cliente irá aderir a uma campanha de marketing de um banco.')\n",
        "st.write('Preencha os dados do cliente abaixo para receber a previsão.')\n",
        "\n",
        "st.divider()\n",
        "\n",
        "# Criando colunas para organizar os campos de entrada\n",
        "col1, col2, col3 = st.columns(3)\n",
        "\n",
        "# Dicionário para armazenar as entradas do usuário\n",
        "user_input = {}\n",
        "\n",
        "with col1:\n",
        "    st.subheader(\"Informações Pessoais\")\n",
        "    user_input['idade'] = st.number_input('Idade', min_value=18, max_value=100, value=40)\n",
        "    user_input['profissao'] = st.selectbox('Profissão', options=encoders['profissao'].classes_)\n",
        "    user_input['estado_civil'] = st.selectbox('Estado Civil', options=encoders['estado_civil'].classes_)\n",
        "    user_input['escolaridade'] = st.selectbox('Escolaridade', options=encoders['escolaridade'].classes_)\n",
        "\n",
        "with col2:\n",
        "    st.subheader(\"Histórico com o Banco\")\n",
        "    user_input['inadimplente'] = st.selectbox('Possui Inadimplência?', options=encoders['inadimplente'].classes_)\n",
        "    user_input['saldo_medio_anual'] = st.number_input('Saldo Médio Anual (em Euros)', value=1500)\n",
        "    user_input['emprestimo_habitacional'] = st.selectbox('Possui Empréstimo Imobiliário?', options=encoders['emprestimo_habitacional'].classes_)\n",
        "    user_input['emprestimo_pessoal'] = st.selectbox('Possui Empréstimo Pessoal?', options=encoders['emprestimo_pessoal'].classes_)\n",
        "\n",
        "with col3:\n",
        "    st.subheader(\"Última Campanha\")\n",
        "    user_input['tipo_contato'] = st.selectbox('Meio de Contato', options=encoders['tipo_contato'].classes_)\n",
        "    user_input['mes_contato'] = st.selectbox('Último Mês de Contato', options=encoders['mes_contato'].classes_)\n",
        "    user_input['duracao_contato'] = st.number_input('Duração do Último Contato (segundos)', value=200, min_value=0)\n",
        "    user_input['numero_contatos'] = st.number_input('Nº de Contatos Nesta Campanha', value=1, min_value=1)\n",
        "    user_input['dias_ultimo_contato'] = st.number_input('Dias Desde o Último Contato (campanha anterior)', value=-1, min_value=-1)\n",
        "    user_input['contatos_anteriores'] = st.number_input('Nº de Contatos (campanha anterior)', value=0, min_value=0)\n",
        "    user_input['resultado_campanha_anterior'] = st.selectbox('Resultado da Campanha Anterior', options=encoders['resultado_campanha_anterior'].classes_)\n",
        "\n",
        "# Botão de Previsão\n",
        "if st.button('Fazer Previsão', type=\"primary\"):\n",
        "    processed_data = preprocess_input(user_input)\n",
        "    prediction_proba = model.predict_proba(processed_data)[0][1]  # probabilidade da classe \"sim\"\n",
        "    threshold = 0.3\n",
        "    prediction = int(prediction_proba >= threshold)\n",
        "\n",
        "    st.divider()\n",
        "    st.subheader('Resultado da Previsão:')\n",
        "\n",
        "    resultado_texto = encoders['assinou_deposito'].inverse_transform([prediction])[0]\n",
        "\n",
        "    if resultado_texto == 'yes':\n",
        "        st.success('O cliente provavelmente VAI ADERIR à campanha! ✅')\n",
        "        st.write(f\"**Confiança da Previsão:** {prediction_proba*100:.2f}%\")\n",
        "    else:\n",
        "        st.error('O cliente provavelmente NÃO VAI ADERIR à campanha. ❌')\n",
        "        st.write(f\"**Confiança da Previsão:** {(1 - prediction_proba)*100:.2f}%\")\n",
        "\n",
        "\n",
        "\n",
        "'''"
      ],
      "metadata": {
        "colab": {
          "base_uri": "https://localhost:8080/",
          "height": 140
        },
        "id": "VT9Ct9f5Ymyu",
        "outputId": "a0392eb7-e383-4fbb-90d6-539bda39c806"
      },
      "id": "VT9Ct9f5Ymyu",
      "execution_count": 109,
      "outputs": [
        {
          "output_type": "execute_result",
          "data": {
            "text/plain": [
              "'\\n\\nimport streamlit as st\\nimport pandas as pd\\nimport joblib\\n\\n# Carregar o modelo, os encoders, as colunas e o scaler\\ntry:\\n    model = joblib.load(\\'modelo_svm_model.joblib\\')\\n    encoders = joblib.load(\\'encoders.joblib\\')\\n    model_columns = joblib.load(\\'colunas_modelo.joblib\\')\\n    scaler = joblib.load(\\'scaler.joblib\\')  # ✅ carregando o scaler\\nexcept FileNotFoundError:\\n    st.error(\"Arquivos de modelo, encoders ou scaler não encontrados. Certifique-se de que estão na mesma pasta que o app.py.\")\\n    st.stop()\\n\\n# --- FUNÇÃO DE PRÉ-PROCESSAMENTO ---\\ndef preprocess_input(data):\\n    # Cria um DataFrame com os dados do usuário\\n    user_df = pd.DataFrame([data])\\n\\n    # Aplica os encoders nas colunas categóricas\\n    for column, encoder in encoders.items():\\n        if column in user_df.columns and column != \\'assinou_deposito\\':\\n            valor_usuario = user_df[column].iloc[0]\\n            if valor_usuario in encoder.classes_:\\n                user_df[column] = encoder.transform([valor_usuario])[0]\\n            else:\\n                st.error(f\"Valor \\'{valor_usuario}\\' não encontrado no encoder da coluna \\'{column}\\'.\")\\n                st.stop()\\n\\n    # Garante a estrutura correta das colunas\\n    processed_df = pd.DataFrame(columns=model_columns)\\n    processed_df.loc[0] = 0  # Inicializa todas as colunas com zero\\n\\n    for col in user_df.columns:\\n        if col in processed_df.columns:\\n            processed_df[col] = user_df[col].values[0]\\n\\n    # ✅ Aplica o scaler para normalizar os dados\\n    processed_scaled = scaler.transform(processed_df)\\n\\n    return processed_scaled\\n\\n# --- INTERFACE DO USUÁRIO COM STREAMLIT ---\\n\\nst.set_page_config(page_title=\"Previsão de Marketing Bancário\", layout=\"wide\")\\nst.title(\\'🤖 Aplicação de Previsão de Adesão a uma Campanha Bancária\\')\\nst.title(\\'Por: Professor Carlos Santos - Instituto Federal Farroupilha Câmpus Alegrete\\')\\nst.write(\\'Esta aplicação utiliza um modelo de Machine Learning (Random Forest) para prever se um cliente irá aderir a uma campanha de marketing de um banco.\\')\\nst.write(\\'Preencha os dados do cliente abaixo para receber a previsão.\\')\\n\\nst.divider()\\n\\n# Criando colunas para organizar os campos de entrada\\ncol1, col2, col3 = st.columns(3)\\n\\n# Dicionário para armazenar as entradas do usuário\\nuser_input = {}\\n\\nwith col1:\\n    st.subheader(\"Informações Pessoais\")\\n    user_input[\\'idade\\'] = st.number_input(\\'Idade\\', min_value=18, max_value=100, value=40)\\n    user_input[\\'profissao\\'] = st.selectbox(\\'Profissão\\', options=encoders[\\'profissao\\'].classes_)\\n    user_input[\\'estado_civil\\'] = st.selectbox(\\'Estado Civil\\', options=encoders[\\'estado_civil\\'].classes_)\\n    user_input[\\'escolaridade\\'] = st.selectbox(\\'Escolaridade\\', options=encoders[\\'escolaridade\\'].classes_)\\n\\nwith col2:\\n    st.subheader(\"Histórico com o Banco\")\\n    user_input[\\'inadimplente\\'] = st.selectbox(\\'Possui Inadimplência?\\', options=encoders[\\'inadimplente\\'].classes_)\\n    user_input[\\'saldo_medio_anual\\'] = st.number_input(\\'Saldo Médio Anual (em Euros)\\', value=1500)\\n    user_input[\\'emprestimo_habitacional\\'] = st.selectbox(\\'Possui Empréstimo Imobiliário?\\', options=encoders[\\'emprestimo_habitacional\\'].classes_)\\n    user_input[\\'emprestimo_pessoal\\'] = st.selectbox(\\'Possui Empréstimo Pessoal?\\', options=encoders[\\'emprestimo_pessoal\\'].classes_)\\n\\nwith col3:\\n    st.subheader(\"Última Campanha\")\\n    user_input[\\'tipo_contato\\'] = st.selectbox(\\'Meio de Contato\\', options=encoders[\\'tipo_contato\\'].classes_)\\n    user_input[\\'mes_contato\\'] = st.selectbox(\\'Último Mês de Contato\\', options=encoders[\\'mes_contato\\'].classes_)\\n    user_input[\\'duracao_contato\\'] = st.number_input(\\'Duração do Último Contato (segundos)\\', value=200, min_value=0)\\n    user_input[\\'numero_contatos\\'] = st.number_input(\\'Nº de Contatos Nesta Campanha\\', value=1, min_value=1)\\n    user_input[\\'dias_ultimo_contato\\'] = st.number_input(\\'Dias Desde o Último Contato (campanha anterior)\\', value=-1, min_value=-1)\\n    user_input[\\'contatos_anteriores\\'] = st.number_input(\\'Nº de Contatos (campanha anterior)\\', value=0, min_value=0)\\n    user_input[\\'resultado_campanha_anterior\\'] = st.selectbox(\\'Resultado da Campanha Anterior\\', options=encoders[\\'resultado_campanha_anterior\\'].classes_)\\n\\n# Botão de Previsão\\nif st.button(\\'Fazer Previsão\\', type=\"primary\"):\\n    processed_data = preprocess_input(user_input)\\n    prediction = model.predict(processed_data)\\n    prediction_proba = model.predict_proba(processed_data)\\n\\n    st.divider()\\n    st.subheader(\\'Resultado da Previsão:\\')\\n\\n    resultado_texto = encoders[\\'assinou_deposito\\'].inverse_transform(prediction)[0]\\n\\n    if resultado_texto == \\'yes\\':\\n        st.success(\\'O cliente provavelmente VAI ADERIR à campanha! ✅\\')\\n        st.write(f\"**Confiança da Previsão:** {prediction_proba[0][1]*100:.2f}%\")\\n    else:\\n        st.error(\\'O cliente provavelmente NÃO VAI ADERIR à campanha. ❌\\')\\n        st.write(f\"**Confiança da Previsão:** {prediction_proba[0][0]*100:.2f}%\")\\n\\n\\n'"
            ],
            "application/vnd.google.colaboratory.intrinsic+json": {
              "type": "string"
            }
          },
          "metadata": {},
          "execution_count": 109
        }
      ]
    },
    {
      "cell_type": "code",
      "source": [
        "'''\n",
        "Parte 3: Listar as Dependências (requirements.txt)\n",
        "\n",
        "Crie outro arquivo de texto, chamado requirements.txt. Ele informa ao servidor de quais bibliotecas Python sua aplicação precisa para funcionar.\n",
        "Cole o seguinte conteúdo nele:\n",
        "'''"
      ],
      "metadata": {
        "colab": {
          "base_uri": "https://localhost:8080/",
          "height": 53
        },
        "id": "u-ynsUOkY15l",
        "outputId": "dc2dd4aa-f840-4617-e17a-7fe680173aa2"
      },
      "id": "u-ynsUOkY15l",
      "execution_count": 110,
      "outputs": [
        {
          "output_type": "execute_result",
          "data": {
            "text/plain": [
              "'\\nParte 3: Listar as Dependências (requirements.txt)\\n\\nCrie outro arquivo de texto, chamado requirements.txt. Ele informa ao servidor de quais bibliotecas Python sua aplicação precisa para funcionar.\\nCole o seguinte conteúdo nele:\\n'"
            ],
            "application/vnd.google.colaboratory.intrinsic+json": {
              "type": "string"
            }
          },
          "metadata": {},
          "execution_count": 110
        }
      ]
    },
    {
      "cell_type": "code",
      "source": [
        "'''\n",
        "\n",
        "pandas\n",
        "scikit-learn\n",
        "streamlit\n",
        "joblib\n",
        "\n",
        "'''"
      ],
      "metadata": {
        "colab": {
          "base_uri": "https://localhost:8080/",
          "height": 36
        },
        "id": "_TKPhe1VZDaJ",
        "outputId": "bb5efa7e-f781-4b8c-b3ff-4bc67f0b043b"
      },
      "id": "_TKPhe1VZDaJ",
      "execution_count": 111,
      "outputs": [
        {
          "output_type": "execute_result",
          "data": {
            "text/plain": [
              "'\\n\\npandas\\nscikit-learn\\nstreamlit\\njoblib\\n\\n'"
            ],
            "application/vnd.google.colaboratory.intrinsic+json": {
              "type": "string"
            }
          },
          "metadata": {},
          "execution_count": 111
        }
      ]
    },
    {
      "cell_type": "code",
      "source": [
        "'''\n",
        "Obs: As versões são importantes para garantir a compatibilidade. Essas são versões recentes e estáveis.\n",
        "'''"
      ],
      "metadata": {
        "colab": {
          "base_uri": "https://localhost:8080/",
          "height": 36
        },
        "id": "znBq_HstZSh7",
        "outputId": "256c6a7a-bd3a-41f0-dcdf-b4a5bfd4b5ae"
      },
      "id": "znBq_HstZSh7",
      "execution_count": 112,
      "outputs": [
        {
          "output_type": "execute_result",
          "data": {
            "text/plain": [
              "'\\nObs: As versões são importantes para garantir a compatibilidade. Essas são versões recentes e estáveis.\\n'"
            ],
            "application/vnd.google.colaboratory.intrinsic+json": {
              "type": "string"
            }
          },
          "metadata": {},
          "execution_count": 112
        }
      ]
    },
    {
      "cell_type": "code",
      "source": [
        "'''\n",
        "\n",
        "Parte 4: Publicar na Web (O Deploy)\n",
        "\n",
        "Esta é a parte final! Vamos colocar sua aplicação no ar de graça.\n",
        "\n",
        "Pré-requisitos:\n",
        "\n",
        "Você precisa de uma conta no GitHub. Se não tiver, crie uma, é grátis.\n",
        "Passos:\n",
        "\n",
        "1. Crie um Repositório no GitHub:\n",
        "\n",
        " - Vá para o GitHub e crie um novo repositório público. Dê um nome a ele, como previsao-marketing-app.\n",
        "\n",
        "2. Faça o Upload dos Arquivos:\n",
        "\n",
        " - No repositório que você acabou de criar, faça o upload dos 6 arquivos que temos:\n",
        "   - app.py (sua aplicação web)\n",
        "   - requirements.txt (as dependências)\n",
        "   - modelo_random_forest.joblib (o modelo salvo)\n",
        "   - encoders.joblib (os encoders salvos)\n",
        "   - scaler.joblib\n",
        "   - colunas_modelo.joblib (a lista de colunas)\n",
        "\n",
        "3. Faça o Deploy com o Streamlit Community Cloud:\n",
        "\n",
        " - Vá para o site: share.streamlit.io\n",
        " - Clique em \"Sign in with GitHub\" e autorize o acesso.\n",
        " - Clique no botão \"New app\".\n",
        " - No campo \"Repository\", escolha o repositório que você criou.\n",
        " - O Streamlit vai preencher automaticamente o nome do arquivo principal (app.py).\n",
        " - Clique no botão \"Deploy!\".\n",
        "\n",
        "Pronto! O Streamlit vai começar a instalar as dependências e configurar sua aplicação. Em 1 ou 2 minutos, você terá um link público para sua aplicação web interativa, que poderá compartilhar com qualquer pessoa!\n",
        "\n",
        "'''"
      ],
      "metadata": {
        "colab": {
          "base_uri": "https://localhost:8080/",
          "height": 140
        },
        "id": "m4NvQq6QZchx",
        "outputId": "042b2159-a509-4153-f580-bf84df9542c2"
      },
      "id": "m4NvQq6QZchx",
      "execution_count": 113,
      "outputs": [
        {
          "output_type": "execute_result",
          "data": {
            "text/plain": [
              "'\\n\\nParte 4: Publicar na Web (O Deploy)\\n\\nEsta é a parte final! Vamos colocar sua aplicação no ar de graça.\\n\\nPré-requisitos:\\n\\nVocê precisa de uma conta no GitHub. Se não tiver, crie uma, é grátis.\\nPassos:\\n\\n1. Crie um Repositório no GitHub:\\n\\n - Vá para o GitHub e crie um novo repositório público. Dê um nome a ele, como previsao-marketing-app.\\n\\n2. Faça o Upload dos Arquivos:\\n\\n - No repositório que você acabou de criar, faça o upload dos 6 arquivos que temos:\\n   - app.py (sua aplicação web)\\n   - requirements.txt (as dependências)\\n   - modelo_random_forest.joblib (o modelo salvo)\\n   - encoders.joblib (os encoders salvos)\\n   - scaler.joblib\\n   - colunas_modelo.joblib (a lista de colunas)\\n\\n3. Faça o Deploy com o Streamlit Community Cloud:\\n\\n - Vá para o site: share.streamlit.io\\n - Clique em \"Sign in with GitHub\" e autorize o acesso.\\n - Clique no botão \"New app\".\\n - No campo \"Repository\", escolha o repositório que você criou.\\n - O Streamlit vai preencher automaticamente o nome do arquivo principal (app.py).\\n - Clique no botão \"Deploy!\".\\n\\nPronto! O Streamlit vai começar a instalar as dependências e configurar sua aplicação. Em 1 ou 2 minutos, você terá um link público para sua aplicação web interativa, que poderá compartilhar com qualquer pessoa!\\n\\n'"
            ],
            "application/vnd.google.colaboratory.intrinsic+json": {
              "type": "string"
            }
          },
          "metadata": {},
          "execution_count": 113
        }
      ]
    }
  ],
  "metadata": {
    "accelerator": "GPU",
    "colab": {
      "gpuType": "T4",
      "provenance": []
    },
    "kernelspec": {
      "display_name": "Python 3",
      "name": "python3"
    },
    "language_info": {
      "name": "python"
    }
  },
  "nbformat": 4,
  "nbformat_minor": 5
}